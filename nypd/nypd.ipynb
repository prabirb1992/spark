{
 "cells": [
  {
   "cell_type": "code",
   "execution_count": 1,
   "metadata": {},
   "outputs": [],
   "source": [
    "# analyze new york crime data\n",
    "inFilePath=\"file:///home/prabir/Work/apachespark/datasets/NYPD_7_Major_Felony_Incidents.csv\""
   ]
  },
  {
   "cell_type": "code",
   "execution_count": 2,
   "metadata": {},
   "outputs": [
    {
     "data": {
      "text/html": [
       "\n",
       "        <div>\n",
       "            <p><b>SparkContext</b></p>\n",
       "\n",
       "            <p><a href=\"http://192.168.43.6:4040\">Spark UI</a></p>\n",
       "\n",
       "            <dl>\n",
       "              <dt>Version</dt>\n",
       "                <dd><code>v2.4.3</code></dd>\n",
       "              <dt>Master</dt>\n",
       "                <dd><code>local[2]</code></dd>\n",
       "              <dt>AppName</dt>\n",
       "                <dd><code>PySparkShell</code></dd>\n",
       "            </dl>\n",
       "        </div>\n",
       "        "
      ],
      "text/plain": [
       "<SparkContext master=local[2] appName=PySparkShell>"
      ]
     },
     "execution_count": 2,
     "metadata": {},
     "output_type": "execute_result"
    }
   ],
   "source": [
    "sc"
   ]
  },
  {
   "cell_type": "code",
   "execution_count": 3,
   "metadata": {},
   "outputs": [],
   "source": [
    "fileRdd=sc.textFile(inFilePath)"
   ]
  },
  {
   "cell_type": "code",
   "execution_count": 4,
   "metadata": {},
   "outputs": [
    {
     "data": {
      "text/plain": [
       "1123466"
      ]
     },
     "execution_count": 4,
     "metadata": {},
     "output_type": "execute_result"
    }
   ],
   "source": [
    "fileRdd.count()"
   ]
  },
  {
   "cell_type": "code",
   "execution_count": 6,
   "metadata": {
    "scrolled": true
   },
   "outputs": [
    {
     "data": {
      "text/plain": [
       "['OBJECTID,Identifier,Occurrence Date,Day of Week,Occurrence Month,Occurrence Day,Occurrence Year,Occurrence Hour,CompStat Month,CompStat Day,CompStat Year,Offense,Offense Classification,Sector,Precinct,Borough,Jurisdiction,XCoordinate,YCoordinate,Location 1',\n",
       " '1,f070032d,09/06/1940 07:30:00 PM,Friday,Sep,6,1940,19,9,7,2010,BURGLARY,FELONY,D,66,BROOKLYN,N.Y. POLICE DEPT,987478,166141,\"(40.6227027620001, -73.9883732929999)\"']"
      ]
     },
     "execution_count": 6,
     "metadata": {},
     "output_type": "execute_result"
    }
   ],
   "source": [
    "fileRdd.take(2)"
   ]
  },
  {
   "cell_type": "code",
   "execution_count": 7,
   "metadata": {
    "scrolled": true
   },
   "outputs": [
    {
     "data": {
      "text/plain": [
       "['OBJECTID,Identifier,Occurrence Date,Day of Week,Occurrence Month,Occurrence Day,Occurrence Year,Occurrence Hour,CompStat Month,CompStat Day,CompStat Year,Offense,Offense Classification,Sector,Precinct,Borough,Jurisdiction,XCoordinate,YCoordinate,Location 1']"
      ]
     },
     "execution_count": 7,
     "metadata": {},
     "output_type": "execute_result"
    }
   ],
   "source": [
    "fileRdd.take(1)"
   ]
  },
  {
   "cell_type": "code",
   "execution_count": 5,
   "metadata": {},
   "outputs": [
    {
     "name": "stdout",
     "output_type": "stream",
     "text": [
      "OBJECTID,Identifier,Occurrence Date,Day of Week,Occurrence Month,Occurrence Day,Occurrence Year,Occurrence Hour,CompStat Month,CompStat Day,CompStat Year,Offense,Offense Classification,Sector,Precinct,Borough,Jurisdiction,XCoordinate,YCoordinate,Location 1\n",
      "<class 'str'>\n"
     ]
    }
   ],
   "source": [
    "header=fileRdd.first()\n",
    "print(header)\n",
    "print(type(header))"
   ]
  },
  {
   "cell_type": "code",
   "execution_count": 6,
   "metadata": {},
   "outputs": [],
   "source": [
    "datawoheader=fileRdd.filter(lambda x:x!=header)"
   ]
  },
  {
   "cell_type": "code",
   "execution_count": 7,
   "metadata": {},
   "outputs": [
    {
     "data": {
      "text/plain": [
       "['1,f070032d,09/06/1940 07:30:00 PM,Friday,Sep,6,1940,19,9,7,2010,BURGLARY,FELONY,D,66,BROOKLYN,N.Y. POLICE DEPT,987478,166141,\"(40.6227027620001, -73.9883732929999)\"',\n",
       " '2,c6245d4d,12/14/1968 12:20:00 AM,Saturday,Dec,14,1968,0,12,14,2008,GRAND LARCENY,FELONY,G,28,MANHATTAN,N.Y. POLICE DEPT,996470,232106,\"(40.8037530600001, -73.955861904)\"',\n",
       " '3,716dbc6f,10/30/1970 03:30:00 PM,Friday,Oct,30,1970,15,10,31,2008,BURGLARY,FELONY,H,84,BROOKLYN,N.Y. POLICE DEPT,986508,190249,\"(40.688874254, -73.9918594329999)\"',\n",
       " '4,638cd7b7,07/18/1972 11:00:00 PM,Tuesday,Jul,18,1972,23,7,19,2012,GRAND LARCENY OF MOTOR VEHICLE,FELONY,F,73,BROOKLYN,N.Y. POLICE DEPT,1005876,182440,\"(40.6674141890001, -73.9220463899999)\"',\n",
       " '5,6e410287,05/21/1987 12:01:00 AM,Thursday,May,21,1987,0,5,28,2009,GRAND LARCENY,FELONY,K,75,BROOKLYN,N.Y. POLICE DEPT,1017958,182266,\"(40.6668988440001, -73.878495425)\"',\n",
       " '6,7eebfe3c,02/01/1990 09:00:00 AM,Thursday,Feb,1,1990,9,9,17,2014,GRAND LARCENY,FELONY,K,105,QUEENS,N.Y. POLICE DEPT,1058407,204788,\"(40.7284698170001, -73.7324430589999)\"',\n",
       " '7,da21f94f,11/13/1990 12:01:00 AM,Tuesday,Nov,13,1990,0,6,7,2007,GRAND LARCENY,FELONY,,73,BROOKLYN,N.Y. HOUSING POLICE,1010272,183760,\"(40.671025464, -73.906195082)\"',\n",
       " '8,87c99e8c,02/02/1992 04:00:00 PM,Sunday,Feb,2,1992,16,3,27,2012,GRAND LARCENY,FELONY,,101,QUEENS,N.Y. POLICE DEPT,1053678,159044,\"(40.6029515910001, -73.749976261)\"',\n",
       " '9,495f57e1,08/08/1994 06:00:00 PM,Monday,Aug,8,1994,18,7,31,2008,RAPE,FELONY,A,103,QUEENS,N.Y. POLICE DEPT,1041749,196938,\"(40.707047475, -73.792611904)\"',\n",
       " '10,31c0b727,10/26/1994 12:01:00 AM,Wednesday,Oct,26,1994,0,6,4,2008,GRAND LARCENY,FELONY,D,17,MANHATTAN,N.Y. POLICE DEPT,992029,213332,\"(40.7522284, -73.971924858)\"']"
      ]
     },
     "execution_count": 7,
     "metadata": {},
     "output_type": "execute_result"
    }
   ],
   "source": [
    "datawoheader.take(10)"
   ]
  },
  {
   "cell_type": "code",
   "execution_count": 21,
   "metadata": {},
   "outputs": [
    {
     "data": {
      "text/plain": [
       "pyspark.rdd.PipelinedRDD"
      ]
     },
     "execution_count": 21,
     "metadata": {},
     "output_type": "execute_result"
    }
   ],
   "source": [
    "type(datawoheader)"
   ]
  },
  {
   "cell_type": "code",
   "execution_count": 14,
   "metadata": {},
   "outputs": [],
   "source": [
    "from collections import namedtuple\n",
    "from io import StringIO\n",
    "import csv"
   ]
  },
  {
   "cell_type": "code",
   "execution_count": 26,
   "metadata": {},
   "outputs": [
    {
     "data": {
      "text/plain": [
       "'OBJECTID,Identifier,Occurrence Date,Day of Week,Occurrence Month,Occurrence Day,Occurrence Year,Occurrence Hour,CompStat Month,CompStat Day,CompStat Year,Offense,Offense Classification,Sector,Precinct,Borough,Jurisdiction,XCoordinate,YCoordinate,Location 1'"
      ]
     },
     "execution_count": 26,
     "metadata": {},
     "output_type": "execute_result"
    }
   ],
   "source": [
    "header"
   ]
  },
  {
   "cell_type": "code",
   "execution_count": 9,
   "metadata": {},
   "outputs": [],
   "source": [
    "fields=header.replace(\" \",\"_\")"
   ]
  },
  {
   "cell_type": "code",
   "execution_count": 10,
   "metadata": {},
   "outputs": [
    {
     "data": {
      "text/plain": [
       "'OBJECTID,Identifier,Occurrence_Date,Day_of_Week,Occurrence_Month,Occurrence_Day,Occurrence_Year,Occurrence_Hour,CompStat_Month,CompStat_Day,CompStat_Year,Offense,Offense_Classification,Sector,Precinct,Borough,Jurisdiction,XCoordinate,YCoordinate,Location_1'"
      ]
     },
     "execution_count": 10,
     "metadata": {},
     "output_type": "execute_result"
    }
   ],
   "source": [
    "fields\n"
   ]
  },
  {
   "cell_type": "code",
   "execution_count": 18,
   "metadata": {},
   "outputs": [],
   "source": [
    "crimeclass=namedtuple('CrimeClass',fields)"
   ]
  },
  {
   "cell_type": "code",
   "execution_count": null,
   "metadata": {},
   "outputs": [],
   "source": []
  },
  {
   "cell_type": "code",
   "execution_count": 19,
   "metadata": {},
   "outputs": [],
   "source": [
    "def parser(row):\n",
    "    strtlist=csv.reader(StringIO(row))\n",
    "    strtlist=next(strtlist)\n",
    "    return crimeclass(*strtlist)\n"
   ]
  },
  {
   "cell_type": "code",
   "execution_count": 20,
   "metadata": {},
   "outputs": [],
   "source": [
    "crime=datawoheader.map(lambda x:parser(x))"
   ]
  },
  {
   "cell_type": "code",
   "execution_count": 21,
   "metadata": {},
   "outputs": [
    {
     "data": {
      "text/plain": [
       "[CrimeClass(OBJECTID='1', Identifier='f070032d', Occurrence_Date='09/06/1940 07:30:00 PM', Day_of_Week='Friday', Occurrence_Month='Sep', Occurrence_Day='6', Occurrence_Year='1940', Occurrence_Hour='19', CompStat_Month='9', CompStat_Day='7', CompStat_Year='2010', Offense='BURGLARY', Offense_Classification='FELONY', Sector='D', Precinct='66', Borough='BROOKLYN', Jurisdiction='N.Y. POLICE DEPT', XCoordinate='987478', YCoordinate='166141', Location_1='(40.6227027620001, -73.9883732929999)')]"
      ]
     },
     "execution_count": 21,
     "metadata": {},
     "output_type": "execute_result"
    }
   ],
   "source": [
    "crime.take(1)"
   ]
  },
  {
   "cell_type": "code",
   "execution_count": 64,
   "metadata": {},
   "outputs": [
    {
     "data": {
      "text/plain": [
       "CrimeClass(OBJECTID='1', Identifier='f070032d', Occurrence_Date='09/06/1940 07:30:00 PM', Day_of_Week='Friday', Occurrence_Month='Sep', Occurrence_Day='6', Occurrence_Year='1940', Occurrence_Hour='19', CompStat_Month='9', CompStat_Day='7', CompStat_Year='2010', Offense='BURGLARY', Offense_Classification='FELONY', Sector='D', Precinct='66', Borough='BROOKLYN', Jurisdiction='N.Y. POLICE DEPT', XCoordinate='987478', YCoordinate='166141', Location_1='(40.6227027620001, -73.9883732929999)')"
      ]
     },
     "execution_count": 64,
     "metadata": {},
     "output_type": "execute_result"
    }
   ],
   "source": [
    "crime.first()"
   ]
  },
  {
   "cell_type": "code",
   "execution_count": 22,
   "metadata": {},
   "outputs": [
    {
     "data": {
      "text/plain": [
       "'BURGLARY'"
      ]
     },
     "execution_count": 22,
     "metadata": {},
     "output_type": "execute_result"
    }
   ],
   "source": [
    "crime.first().Offense"
   ]
  },
  {
   "cell_type": "code",
   "execution_count": 23,
   "metadata": {},
   "outputs": [
    {
     "data": {
      "text/plain": [
       "defaultdict(int,\n",
       "            {'BURGLARY': 191369,\n",
       "             'FELONY ASSAULT': 184042,\n",
       "             'GRAND LARCENY': 428993,\n",
       "             'GRAND LARCENY OF MOTOR VEHICLE': 101963,\n",
       "             'MURDER & NON-NEGL. MANSLAUGHTE': 4574,\n",
       "             'NA': 1,\n",
       "             'RAPE': 13779,\n",
       "             'ROBBERY': 198744})"
      ]
     },
     "execution_count": 23,
     "metadata": {},
     "output_type": "execute_result"
    }
   ],
   "source": [
    "crime.map(lambda x: x.Offense).countByValue()"
   ]
  },
  {
   "cell_type": "code",
   "execution_count": 24,
   "metadata": {},
   "outputs": [
    {
     "data": {
      "text/plain": [
       "defaultdict(int,\n",
       "            {'': 244,\n",
       "             '1905': 2,\n",
       "             '1908': 1,\n",
       "             '1910': 3,\n",
       "             '1911': 1,\n",
       "             '1912': 1,\n",
       "             '1913': 4,\n",
       "             '1914': 2,\n",
       "             '1915': 3,\n",
       "             '1920': 1,\n",
       "             '1940': 1,\n",
       "             '1945': 2,\n",
       "             '1946': 1,\n",
       "             '1950': 1,\n",
       "             '1954': 1,\n",
       "             '1955': 1,\n",
       "             '1956': 1,\n",
       "             '1958': 1,\n",
       "             '1959': 1,\n",
       "             '1960': 1,\n",
       "             '1964': 1,\n",
       "             '1965': 2,\n",
       "             '1966': 7,\n",
       "             '1968': 1,\n",
       "             '1969': 1,\n",
       "             '1970': 2,\n",
       "             '1971': 1,\n",
       "             '1972': 2,\n",
       "             '1973': 5,\n",
       "             '1974': 3,\n",
       "             '1975': 2,\n",
       "             '1976': 2,\n",
       "             '1977': 3,\n",
       "             '1978': 2,\n",
       "             '1979': 6,\n",
       "             '1980': 5,\n",
       "             '1981': 1,\n",
       "             '1982': 5,\n",
       "             '1983': 1,\n",
       "             '1984': 4,\n",
       "             '1985': 8,\n",
       "             '1986': 2,\n",
       "             '1987': 6,\n",
       "             '1988': 6,\n",
       "             '1989': 12,\n",
       "             '1990': 17,\n",
       "             '1991': 12,\n",
       "             '1992': 12,\n",
       "             '1993': 23,\n",
       "             '1994': 19,\n",
       "             '1995': 27,\n",
       "             '1996': 34,\n",
       "             '1997': 40,\n",
       "             '1998': 74,\n",
       "             '1999': 124,\n",
       "             '2000': 282,\n",
       "             '2001': 343,\n",
       "             '2002': 368,\n",
       "             '2003': 490,\n",
       "             '2004': 692,\n",
       "             '2005': 3272,\n",
       "             '2006': 127887,\n",
       "             '2007': 120554,\n",
       "             '2008': 117375,\n",
       "             '2009': 106018,\n",
       "             '2010': 105643,\n",
       "             '2011': 107206,\n",
       "             '2012': 111798,\n",
       "             '2013': 111286,\n",
       "             '2014': 106849,\n",
       "             '2015': 102657})"
      ]
     },
     "execution_count": 24,
     "metadata": {},
     "output_type": "execute_result"
    }
   ],
   "source": [
    "crime.map(lambda x: x.Occurrence_Year).countByValue()"
   ]
  },
  {
   "cell_type": "code",
   "execution_count": 25,
   "metadata": {},
   "outputs": [],
   "source": [
    "crimenewrdd=crime.filter(lambda x: (x.Offense!='NA' and x.Occurrence_Year!=''))"
   ]
  },
  {
   "cell_type": "code",
   "execution_count": 26,
   "metadata": {},
   "outputs": [
    {
     "data": {
      "text/plain": [
       "[CrimeClass(OBJECTID='1', Identifier='f070032d', Occurrence_Date='09/06/1940 07:30:00 PM', Day_of_Week='Friday', Occurrence_Month='Sep', Occurrence_Day='6', Occurrence_Year='1940', Occurrence_Hour='19', CompStat_Month='9', CompStat_Day='7', CompStat_Year='2010', Offense='BURGLARY', Offense_Classification='FELONY', Sector='D', Precinct='66', Borough='BROOKLYN', Jurisdiction='N.Y. POLICE DEPT', XCoordinate='987478', YCoordinate='166141', Location_1='(40.6227027620001, -73.9883732929999)'),\n",
       " CrimeClass(OBJECTID='2', Identifier='c6245d4d', Occurrence_Date='12/14/1968 12:20:00 AM', Day_of_Week='Saturday', Occurrence_Month='Dec', Occurrence_Day='14', Occurrence_Year='1968', Occurrence_Hour='0', CompStat_Month='12', CompStat_Day='14', CompStat_Year='2008', Offense='GRAND LARCENY', Offense_Classification='FELONY', Sector='G', Precinct='28', Borough='MANHATTAN', Jurisdiction='N.Y. POLICE DEPT', XCoordinate='996470', YCoordinate='232106', Location_1='(40.8037530600001, -73.955861904)'),\n",
       " CrimeClass(OBJECTID='3', Identifier='716dbc6f', Occurrence_Date='10/30/1970 03:30:00 PM', Day_of_Week='Friday', Occurrence_Month='Oct', Occurrence_Day='30', Occurrence_Year='1970', Occurrence_Hour='15', CompStat_Month='10', CompStat_Day='31', CompStat_Year='2008', Offense='BURGLARY', Offense_Classification='FELONY', Sector='H', Precinct='84', Borough='BROOKLYN', Jurisdiction='N.Y. POLICE DEPT', XCoordinate='986508', YCoordinate='190249', Location_1='(40.688874254, -73.9918594329999)'),\n",
       " CrimeClass(OBJECTID='4', Identifier='638cd7b7', Occurrence_Date='07/18/1972 11:00:00 PM', Day_of_Week='Tuesday', Occurrence_Month='Jul', Occurrence_Day='18', Occurrence_Year='1972', Occurrence_Hour='23', CompStat_Month='7', CompStat_Day='19', CompStat_Year='2012', Offense='GRAND LARCENY OF MOTOR VEHICLE', Offense_Classification='FELONY', Sector='F', Precinct='73', Borough='BROOKLYN', Jurisdiction='N.Y. POLICE DEPT', XCoordinate='1005876', YCoordinate='182440', Location_1='(40.6674141890001, -73.9220463899999)'),\n",
       " CrimeClass(OBJECTID='5', Identifier='6e410287', Occurrence_Date='05/21/1987 12:01:00 AM', Day_of_Week='Thursday', Occurrence_Month='May', Occurrence_Day='21', Occurrence_Year='1987', Occurrence_Hour='0', CompStat_Month='5', CompStat_Day='28', CompStat_Year='2009', Offense='GRAND LARCENY', Offense_Classification='FELONY', Sector='K', Precinct='75', Borough='BROOKLYN', Jurisdiction='N.Y. POLICE DEPT', XCoordinate='1017958', YCoordinate='182266', Location_1='(40.6668988440001, -73.878495425)'),\n",
       " CrimeClass(OBJECTID='6', Identifier='7eebfe3c', Occurrence_Date='02/01/1990 09:00:00 AM', Day_of_Week='Thursday', Occurrence_Month='Feb', Occurrence_Day='1', Occurrence_Year='1990', Occurrence_Hour='9', CompStat_Month='9', CompStat_Day='17', CompStat_Year='2014', Offense='GRAND LARCENY', Offense_Classification='FELONY', Sector='K', Precinct='105', Borough='QUEENS', Jurisdiction='N.Y. POLICE DEPT', XCoordinate='1058407', YCoordinate='204788', Location_1='(40.7284698170001, -73.7324430589999)'),\n",
       " CrimeClass(OBJECTID='7', Identifier='da21f94f', Occurrence_Date='11/13/1990 12:01:00 AM', Day_of_Week='Tuesday', Occurrence_Month='Nov', Occurrence_Day='13', Occurrence_Year='1990', Occurrence_Hour='0', CompStat_Month='6', CompStat_Day='7', CompStat_Year='2007', Offense='GRAND LARCENY', Offense_Classification='FELONY', Sector='', Precinct='73', Borough='BROOKLYN', Jurisdiction='N.Y. HOUSING POLICE', XCoordinate='1010272', YCoordinate='183760', Location_1='(40.671025464, -73.906195082)'),\n",
       " CrimeClass(OBJECTID='8', Identifier='87c99e8c', Occurrence_Date='02/02/1992 04:00:00 PM', Day_of_Week='Sunday', Occurrence_Month='Feb', Occurrence_Day='2', Occurrence_Year='1992', Occurrence_Hour='16', CompStat_Month='3', CompStat_Day='27', CompStat_Year='2012', Offense='GRAND LARCENY', Offense_Classification='FELONY', Sector='', Precinct='101', Borough='QUEENS', Jurisdiction='N.Y. POLICE DEPT', XCoordinate='1053678', YCoordinate='159044', Location_1='(40.6029515910001, -73.749976261)'),\n",
       " CrimeClass(OBJECTID='9', Identifier='495f57e1', Occurrence_Date='08/08/1994 06:00:00 PM', Day_of_Week='Monday', Occurrence_Month='Aug', Occurrence_Day='8', Occurrence_Year='1994', Occurrence_Hour='18', CompStat_Month='7', CompStat_Day='31', CompStat_Year='2008', Offense='RAPE', Offense_Classification='FELONY', Sector='A', Precinct='103', Borough='QUEENS', Jurisdiction='N.Y. POLICE DEPT', XCoordinate='1041749', YCoordinate='196938', Location_1='(40.707047475, -73.792611904)'),\n",
       " CrimeClass(OBJECTID='10', Identifier='31c0b727', Occurrence_Date='10/26/1994 12:01:00 AM', Day_of_Week='Wednesday', Occurrence_Month='Oct', Occurrence_Day='26', Occurrence_Year='1994', Occurrence_Hour='0', CompStat_Month='6', CompStat_Day='4', CompStat_Year='2008', Offense='GRAND LARCENY', Offense_Classification='FELONY', Sector='D', Precinct='17', Borough='MANHATTAN', Jurisdiction='N.Y. POLICE DEPT', XCoordinate='992029', YCoordinate='213332', Location_1='(40.7522284, -73.971924858)')]"
      ]
     },
     "execution_count": 26,
     "metadata": {},
     "output_type": "execute_result"
    }
   ],
   "source": [
    "crimenewrdd.take(10)"
   ]
  },
  {
   "cell_type": "code",
   "execution_count": 27,
   "metadata": {},
   "outputs": [],
   "source": [
    "def cordextract(value):\n",
    "    value=value[1:-2]\n",
    "    lat,long=map(float,value.split(\",\"))\n",
    "    return (lat,long)"
   ]
  },
  {
   "cell_type": "code",
   "execution_count": 28,
   "metadata": {},
   "outputs": [
    {
     "data": {
      "text/plain": [
       "PythonRDD[12] at RDD at PythonRDD.scala:53"
      ]
     },
     "execution_count": 28,
     "metadata": {},
     "output_type": "execute_result"
    }
   ],
   "source": [
    "crimenewrdd.map(lambda x:cordextract(x.Location_1))"
   ]
  },
  {
   "cell_type": "code",
   "execution_count": 39,
   "metadata": {},
   "outputs": [
    {
     "data": {
      "text/plain": [
       "[CrimeClass(OBJECTID='1', Identifier='f070032d', Occurrence_Date='09/06/1940 07:30:00 PM', Day_of_Week='Friday', Occurrence_Month='Sep', Occurrence_Day='6', Occurrence_Year='1940', Occurrence_Hour='19', CompStat_Month='9', CompStat_Day='7', CompStat_Year='2010', Offense='BURGLARY', Offense_Classification='FELONY', Sector='D', Precinct='66', Borough='BROOKLYN', Jurisdiction='N.Y. POLICE DEPT', XCoordinate='987478', YCoordinate='166141', Location_1='(40.6227027620001, -73.9883732929999)')]"
      ]
     },
     "execution_count": 39,
     "metadata": {},
     "output_type": "execute_result"
    }
   ],
   "source": [
    "crimenewrdd.take(1)"
   ]
  },
  {
   "cell_type": "code",
   "execution_count": 46,
   "metadata": {},
   "outputs": [],
   "source": [
    "cfd=crimenewrdd.filter(lambda x:cordextract(x.Location_1)[0]>=40.00 and\n",
    "                      cordextract(x.Location_1)[0]<=40.50           and\n",
    "                      cordextract(x.Location_1)[1]>=-74.259         and\n",
    "                      cordextract(x.Location_1)[1]<=-74.00)"
   ]
  },
  {
   "cell_type": "code",
   "execution_count": 47,
   "metadata": {},
   "outputs": [
    {
     "data": {
      "text/plain": [
       "16"
      ]
     },
     "execution_count": 47,
     "metadata": {},
     "output_type": "execute_result"
    }
   ],
   "source": [
    "cfd.count()"
   ]
  },
  {
   "cell_type": "code",
   "execution_count": 35,
   "metadata": {},
   "outputs": [],
   "source": [
    "import gmplot"
   ]
  },
  {
   "cell_type": "code",
   "execution_count": 48,
   "metadata": {},
   "outputs": [],
   "source": [
    "gmap = gmplot.GoogleMapPlotter(37.428, -122.145, 16)\n"
   ]
  },
  {
   "cell_type": "code",
   "execution_count": 56,
   "metadata": {},
   "outputs": [],
   "source": [
    "lats=cfd.filter(lambda x: x.Offense=='RAPE').map(lambda x: cordextract(x.Location_1)[0]).collect()"
   ]
  },
  {
   "cell_type": "code",
   "execution_count": 57,
   "metadata": {},
   "outputs": [
    {
     "data": {
      "text/plain": [
       "[]"
      ]
     },
     "execution_count": 57,
     "metadata": {},
     "output_type": "execute_result"
    }
   ],
   "source": [
    "lats"
   ]
  },
  {
   "cell_type": "code",
   "execution_count": 58,
   "metadata": {},
   "outputs": [],
   "source": [
    "long=cfd.filter(lambda x: x.Offense=='RAPE').map(lambda x: cordextract(x.Location_1)[1]).collect()"
   ]
  },
  {
   "cell_type": "code",
   "execution_count": 54,
   "metadata": {},
   "outputs": [],
   "source": [
    "gmap.scatter(lats, long, '#DE1515', size=40, marker=False)"
   ]
  },
  {
   "cell_type": "code",
   "execution_count": 55,
   "metadata": {},
   "outputs": [],
   "source": [
    "gmap.draw(\"BURGLARY_NY.html\")"
   ]
  },
  {
   "cell_type": "code",
   "execution_count": 59,
   "metadata": {},
   "outputs": [
    {
     "data": {
      "text/plain": [
       "[]"
      ]
     },
     "execution_count": 59,
     "metadata": {},
     "output_type": "execute_result"
    }
   ],
   "source": [
    "long"
   ]
  },
  {
   "cell_type": "code",
   "execution_count": null,
   "metadata": {},
   "outputs": [],
   "source": []
  }
 ],
 "metadata": {
  "kernelspec": {
   "display_name": "Python 3",
   "language": "python",
   "name": "python3"
  },
  "language_info": {
   "codemirror_mode": {
    "name": "ipython",
    "version": 3
   },
   "file_extension": ".py",
   "mimetype": "text/x-python",
   "name": "python",
   "nbconvert_exporter": "python",
   "pygments_lexer": "ipython3",
   "version": "3.5.2"
  }
 },
 "nbformat": 4,
 "nbformat_minor": 2
}
