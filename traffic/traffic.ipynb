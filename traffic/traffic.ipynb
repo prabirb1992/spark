{
 "cells": [
  {
   "cell_type": "code",
   "execution_count": 1,
   "metadata": {},
   "outputs": [],
   "source": [
    "trafficpath=\"file:///home/prabir/Work/apachespark/traffic/Dodgers.data\"\n",
    "gamepath=\"file:///home/prabir/Work/apachespark/traffic/Dodgers.events\""
   ]
  },
  {
   "cell_type": "code",
   "execution_count": 37,
   "metadata": {},
   "outputs": [],
   "source": [
    "traffic=sc.textFile(trafficpath)"
   ]
  },
  {
   "cell_type": "code",
   "execution_count": 3,
   "metadata": {},
   "outputs": [],
   "source": [
    "game=sc.textFile(gamepath)"
   ]
  },
  {
   "cell_type": "code",
   "execution_count": 38,
   "metadata": {},
   "outputs": [
    {
     "data": {
      "text/plain": [
       "['4/10/2005 0:00,-1']"
      ]
     },
     "execution_count": 38,
     "metadata": {},
     "output_type": "execute_result"
    }
   ],
   "source": [
    "traffic.take(1)"
   ]
  },
  {
   "cell_type": "code",
   "execution_count": 6,
   "metadata": {},
   "outputs": [
    {
     "data": {
      "text/plain": [
       "['04/12/05,13:10:00,16:23:00,55892,San Francisco,W 9-8�',\n",
       " '04/13/05,19:10:00,21:48:00,46514,San Francisco,W 4-1�',\n",
       " '04/15/05,19:40:00,21:48:00,51816,San Diego,W 4-0�',\n",
       " '04/16/05,19:10:00,21:52:00,54704,San Diego,W 8-3�',\n",
       " '04/17/05,13:10:00,15:31:00,53402,San Diego,W 6-0�',\n",
       " '04/25/05,19:10:00,21:33:00,36876,Arizona,L 4-2�',\n",
       " '04/26/05,19:10:00,22:00:00,44486,Arizona,L 3-2�',\n",
       " '04/27/05,19:10:00,22:17:00,54387,Arizona,L 6-3�',\n",
       " '04/29/05,19:40:00,22:01:00,40150,Colorado,W 6-3�',\n",
       " '04/30/05,19:10:00,21:45:00,54123,Colorado,W 6-2�']"
      ]
     },
     "execution_count": 6,
     "metadata": {},
     "output_type": "execute_result"
    }
   ],
   "source": [
    "game.take(10)"
   ]
  },
  {
   "cell_type": "code",
   "execution_count": 8,
   "metadata": {},
   "outputs": [],
   "source": [
    "\n",
    "from datetime import datetime\n",
    "import csv"
   ]
  },
  {
   "cell_type": "code",
   "execution_count": 10,
   "metadata": {},
   "outputs": [],
   "source": [
    "from io import StringIO"
   ]
  },
  {
   "cell_type": "code",
   "execution_count": 56,
   "metadata": {},
   "outputs": [],
   "source": [
    "def trafficdateparser(row):\n",
    "    DATE_FMT=\"%m/%d/%Y %H:%M\"\n",
    "    row=row.split(\",\")\n",
    "    datefinal=datetime.strptime(row[0],DATE_FMT)\n",
    "    return (datefinal.date(),int(row[1]))\n",
    "\n",
    "   "
   ]
  },
  {
   "cell_type": "code",
   "execution_count": 57,
   "metadata": {},
   "outputs": [],
   "source": [
    "def gamedateparser(row):\n",
    "    DATE_FMT=\"%m/%d/%y\"\n",
    "    row=row.split(\",\")\n",
    "    datefinal=datetime.strptime(row[0],DATE_FMT)\n",
    "    return (datefinal.date(),row[4])"
   ]
  },
  {
   "cell_type": "code",
   "execution_count": 58,
   "metadata": {},
   "outputs": [],
   "source": [
    "traffics=traffic.map(trafficdateparser)"
   ]
  },
  {
   "cell_type": "code",
   "execution_count": 59,
   "metadata": {},
   "outputs": [
    {
     "data": {
      "text/plain": [
       "[(datetime.date(2005, 6, 16), 5770),\n",
       " (datetime.date(2005, 8, 1), 6233),\n",
       " (datetime.date(2005, 5, 29), 4081),\n",
       " (datetime.date(2005, 9, 15), 6721),\n",
       " (datetime.date(2005, 8, 28), 5087),\n",
       " (datetime.date(2005, 9, 21), 6580),\n",
       " (datetime.date(2005, 6, 13), 5974),\n",
       " (datetime.date(2005, 7, 21), 5794),\n",
       " (datetime.date(2005, 7, 13), 5544),\n",
       " (datetime.date(2005, 8, 8), 5979)]"
      ]
     },
     "execution_count": 59,
     "metadata": {},
     "output_type": "execute_result"
    }
   ],
   "source": [
    "traffics.take(10)\n",
    "traffics=traffics.reduceByKey(lambda x,y:x+y)\n",
    "traffics.take(10)"
   ]
  },
  {
   "cell_type": "code",
   "execution_count": 52,
   "metadata": {},
   "outputs": [],
   "source": [
    "games=game.map(gamedateparser)"
   ]
  },
  {
   "cell_type": "markdown",
   "metadata": {},
   "source": []
  },
  {
   "cell_type": "code",
   "execution_count": 64,
   "metadata": {
    "scrolled": true
   },
   "outputs": [
    {
     "data": {
      "text/plain": [
       "[(datetime.date(2005, 4, 12), 'San Francisco'),\n",
       " (datetime.date(2005, 4, 13), 'San Francisco'),\n",
       " (datetime.date(2005, 4, 15), 'San Diego'),\n",
       " (datetime.date(2005, 4, 16), 'San Diego'),\n",
       " (datetime.date(2005, 4, 17), 'San Diego'),\n",
       " (datetime.date(2005, 4, 25), 'Arizona'),\n",
       " (datetime.date(2005, 4, 26), 'Arizona'),\n",
       " (datetime.date(2005, 4, 27), 'Arizona'),\n",
       " (datetime.date(2005, 4, 29), 'Colorado'),\n",
       " (datetime.date(2005, 4, 30), 'Colorado')]"
      ]
     },
     "execution_count": 64,
     "metadata": {},
     "output_type": "execute_result"
    }
   ],
   "source": [
    "games.take(10)"
   ]
  },
  {
   "cell_type": "code",
   "execution_count": 63,
   "metadata": {},
   "outputs": [
    {
     "data": {
      "text/plain": [
       "[(datetime.date(2005, 6, 16), (5770, None)),\n",
       " (datetime.date(2005, 8, 1), (6233, None)),\n",
       " (datetime.date(2005, 9, 15), (6721, None)),\n",
       " (datetime.date(2005, 6, 13), (5974, None)),\n",
       " (datetime.date(2005, 7, 21), (5794, None)),\n",
       " (datetime.date(2005, 4, 21), (5977, None)),\n",
       " (datetime.date(2005, 8, 8), (5979, None)),\n",
       " (datetime.date(2005, 9, 22), (6810, None)),\n",
       " (datetime.date(2005, 6, 18), (5468, None)),\n",
       " (datetime.date(2005, 7, 8), (6563, None))]"
      ]
     },
     "execution_count": 63,
     "metadata": {},
     "output_type": "execute_result"
    }
   ],
   "source": []
  },
  {
   "cell_type": "code",
   "execution_count": 65,
   "metadata": {},
   "outputs": [],
   "source": [
    "dailytrend=traffics.join(games)"
   ]
  },
  {
   "cell_type": "raw",
   "metadata": {},
   "source": []
  },
  {
   "cell_type": "code",
   "execution_count": 68,
   "metadata": {},
   "outputs": [
    {
     "data": {
      "text/plain": [
       "[(datetime.date(2005, 9, 13), (5662, 'Colorado')),\n",
       " (datetime.date(2005, 5, 13), (6706, 'Atlanta')),\n",
       " (datetime.date(2005, 4, 15), (6459, 'San Diego')),\n",
       " (datetime.date(2005, 4, 25), (6280, 'Arizona')),\n",
       " (datetime.date(2005, 7, 1), (6210, 'Arizona')),\n",
       " (datetime.date(2005, 9, 24), (5848, 'Pittsburgh')),\n",
       " (datetime.date(2005, 7, 25), (6898, 'Cincinnati')),\n",
       " (datetime.date(2005, 7, 14), (5338, 'San Francisco')),\n",
       " (datetime.date(2005, 9, 5), (4023, 'San Francisco')),\n",
       " (datetime.date(2005, 4, 17), (5322, 'San Diego'))]"
      ]
     },
     "execution_count": 68,
     "metadata": {},
     "output_type": "execute_result"
    }
   ],
   "source": [
    "dailytrend.take(10)"
   ]
  },
  {
   "cell_type": "code",
   "execution_count": 69,
   "metadata": {},
   "outputs": [
    {
     "data": {
      "text/plain": [
       "[(datetime.date(2005, 7, 28), (7661, 'Cincinnati')),\n",
       " (datetime.date(2005, 7, 29), (7499, 'St. Louis')),\n",
       " (datetime.date(2005, 8, 12), (7287, 'NY Mets')),\n",
       " (datetime.date(2005, 7, 27), (7238, 'Cincinnati')),\n",
       " (datetime.date(2005, 9, 23), (7175, 'Pittsburgh')),\n",
       " (datetime.date(2005, 7, 26), (7163, 'Cincinnati')),\n",
       " (datetime.date(2005, 5, 20), (7119, 'LA Angels')),\n",
       " (datetime.date(2005, 8, 11), (7110, 'Philadelphia')),\n",
       " (datetime.date(2005, 9, 7), (7082, 'San Francisco')),\n",
       " (datetime.date(2005, 8, 10), (7060, 'Philadelphia'))]"
      ]
     },
     "execution_count": 69,
     "metadata": {},
     "output_type": "execute_result"
    }
   ],
   "source": [
    "dailytrend.sortBy(lambda x:-x[1][0]).take(10)"
   ]
  },
  {
   "cell_type": "code",
   "execution_count": null,
   "metadata": {},
   "outputs": [],
   "source": []
  }
 ],
 "metadata": {
  "kernelspec": {
   "display_name": "Python 3",
   "language": "python",
   "name": "python3"
  },
  "language_info": {
   "codemirror_mode": {
    "name": "ipython",
    "version": 3
   },
   "file_extension": ".py",
   "mimetype": "text/x-python",
   "name": "python",
   "nbconvert_exporter": "python",
   "pygments_lexer": "ipython3",
   "version": "3.5.2"
  }
 },
 "nbformat": 4,
 "nbformat_minor": 2
}
